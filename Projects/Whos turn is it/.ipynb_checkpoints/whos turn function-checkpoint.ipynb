{
 "cells": [
  {
   "cell_type": "markdown",
   "metadata": {},
   "source": [
    "# Who's Turn is it to Make the coffee.\n",
    "\n",
    "This project was my first python project. I'd just started the DataCamp Data Science track and was learning to write functions. At the time I created this code I was on holiday in the English Lake District with my extended family. There are 7 of us, 5 adults and 2 children, so my first function simply help us decide who's turn it was to makes the tea and coffee next.\n",
    "\n",
    "![Coffee please](Images/coffee.jpg?raw=true)\n",
    "\n",
    "We'll start with a very simple function that generates a random number to choose an element in a tuple and prints the result. This is based on the lessons in **Python Data Science Toolbox (Part 1)**"
   ]
  },
  {
   "cell_type": "code",
   "execution_count": 2,
   "metadata": {},
   "outputs": [
    {
     "name": "stdout",
     "output_type": "stream",
     "text": [
      "Its Chris's turn\n"
     ]
    }
   ],
   "source": [
    "def whosturn() :\n",
    "    \"\"\"Who's turn is to make the coffee next\"\"\"\n",
    "    import numpy as np\n",
    "    tuple=(\"David\",\"Lucinda\",\"Chris\",\"Katharine\",\"Charlie\")\n",
    "    random=np.random.randint(0,4)\n",
    "    print(\"Its \"+ ((tuple)[random])+\"'s turn\")\n",
    "    \n",
    "whosturn()"
   ]
  },
  {
   "cell_type": "markdown",
   "metadata": {},
   "source": [
    "![Anyone for Juice](Images/juice.jpg?raw=true)\n",
    "\n",
    "The two children (Hannah and Thomas) soon wanted to be included in the fun, but nine year old's can't make coffee, so I had to add a Juice option to the function and an **if / else** statement to handle it."
   ]
  },
  {
   "cell_type": "code",
   "execution_count": 80,
   "metadata": {},
   "outputs": [
    {
     "name": "stdout",
     "output_type": "stream",
     "text": [
      "Its Lucinda's turn to make the Hot Chocolate\n"
     ]
    }
   ],
   "source": [
    "def whosturn() :\n",
    "    \"\"\"Who's turn is to make the coffee or juice\"\"\"\n",
    "    import numpy as np\n",
    "    name=(\"David\",\"Lucinda\",\"Chris\",\"Katharine\",\"Grandad\",\"Thomas\",\"Hannah\")\n",
    "    drink=(\"Tea\",\"Coffee\",\"Hot Chocolate\")\n",
    "    random=np.random.randint(0,6)\n",
    "    if random < 5 :\n",
    "        print(\"Its \"+ ((name)[random])+\"'s turn to make the \" + ((drink)[np.random.randint(0,3)]))\n",
    "    else :\n",
    "        print(\"Looks like were out of luck, its \" + ((name)[random]) + \"'s turn, so it'll be juice!\")\n",
    "\n",
    "whosturn()"
   ]
  },
  {
   "cell_type": "markdown",
   "metadata": {},
   "source": [
    "![Monoploy](Images/monopoly.jpg?raw=true)\n",
    "\n",
    "Now that we have teas and coffee's, we need to decide what we are going to do today. Thomas can up with a list of things he likes to do and together we wrote a function to decide which one to do. But what if Hannah wants to add some activities to the list, we didn't want to keep updating random numbers part of the code to keep track of the number of activities in the list, so this time we used the ** len() ** method to pass the number of options in the tuple to the random number generator."
   ]
  },
  {
   "cell_type": "code",
   "execution_count": 76,
   "metadata": {},
   "outputs": [
    {
     "name": "stdout",
     "output_type": "stream",
     "text": [
      "We should Play Monopoly!\n"
     ]
    }
   ],
   "source": [
    "def whatshallwedo() :\n",
    "    \"\"\"what should we do today?\"\"\"\n",
    "    import numpy as np\n",
    "    tuple=(\"Make Pancakes\", \"Play Monopoly\",\"Play with Thomas's Playmobil toys\",\"Light the fire\")\n",
    "    random=np.random.randint(0,(len(tuple)))\n",
    "    print(\"We should \" + ((tuple)[random]) + \"!\")\n",
    "\n",
    "whatshallwedo()"
   ]
  },
  {
   "cell_type": "markdown",
   "metadata": {
    "collapsed": true
   },
   "source": [
    "![Data Camp](../Images/datacamp.png?raw=true)"
   ]
  },
  {
   "cell_type": "code",
   "execution_count": null,
   "metadata": {
    "collapsed": true
   },
   "outputs": [],
   "source": []
  }
 ],
 "metadata": {
  "kernelspec": {
   "display_name": "Python 3",
   "language": "python",
   "name": "python3"
  },
  "language_info": {
   "codemirror_mode": {
    "name": "ipython",
    "version": 3
   },
   "file_extension": ".py",
   "mimetype": "text/x-python",
   "name": "python",
   "nbconvert_exporter": "python",
   "pygments_lexer": "ipython3",
   "version": "3.6.0"
  }
 },
 "nbformat": 4,
 "nbformat_minor": 2
}
