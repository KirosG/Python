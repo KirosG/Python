{
 "cells": [
  {
   "cell_type": "markdown",
   "metadata": {},
   "source": [
    "# Mapping with Bokeh\n",
    "\n",
    "I originally planned to create one project including elements of mapping with google, Folium and Bokeh. However when I got into the mapping participation project, it beame obvious that the two projects simply didn't sit well together. As a result Mapping with Bokeh is now a project in its own right.\n",
    "\n",
    "![Bokeh](Images/bokeh.jpg?raw=true)\n",
    "\n",
    "[Bokeh](https://bokeh.pydata.org/en/latest/) is a Python interactive visualization library that targets modern web browsers for presentation. Its goal is to provide elegant, concise construction of novel graphics in the style of D3.js, and to extend this capability with high-performance interactivity over very large or streaming datasets. Bokeh can help anyone who would like to quickly and easily create interactive plots, dashboards, and data applications.\n",
    "\n",
    "Patches are objects within bokeh that can can be added to a plot, they are made up of a list of lists then contain the x and y values, colours, transparencies etc. As longitude and latuitudes are really just x and y values, you can feed bokeh a series of x and y co-ordinates as lists from a kml file for example and it will draw a county, region or country.  "
   ]
  },
  {
   "cell_type": "markdown",
   "metadata": {},
   "source": [
    "# Mapping 3 States\n",
    "\n",
    "Anyone that has done any of the online Bokeh tutorials or studied the Datacamp, **Interactive Data Visualization with Bokeh** course may be familar with these maps. In fact it was doing the basic Bokeh patches exercise on datacamp that gave me the inspiration to come up with this project.\n",
    "\n",
    "![Data Camp](../Images/datacamp.png?raw=true)\n",
    "\n",
    "Lets start my taking a look at how patches work. We need to import the libraries, then loaded the data from the sampledata, next we will manually create lists for the longitude and latitude and colour for each of the first 3 states then make lists of these lists. Finally we will create a patch, pass it the lists of lists ans call the plot.\n",
    "\n",
    "![3 states](Images/3state.png?raw=true)"
   ]
  },
  {
   "cell_type": "code",
   "execution_count": null,
   "metadata": {},
   "outputs": [],
   "source": [
    "# load libraries\n",
    "import pandas as pd\n",
    "import numpy as np\n",
    "from bokeh.io import push_notebook,show,output_notebook,output_file\n",
    "from bokeh.plotting import figure\n",
    "\n",
    "# import map data\n",
    "from bokeh.sampledata.us_states import data as states\n",
    "\n",
    "p = figure(toolbar_location=\"left\")\n",
    "# print(states)\n",
    "\n",
    "# Create a list of az_lons, co_lons, nm_lons and ut_lons: x\n",
    "az_lons=states['AZ'][\"lons\"]\n",
    "co_lons=states['CO'][\"lons\"]\n",
    "nm_lons=states['NM'][\"lons\"]\n",
    "\n",
    "# Create a list of az_lats, co_lats, nm_lats and ut_lats: y\n",
    "az_lats=states['AZ'][\"lats\"]\n",
    "co_lats=states['CO'][\"lats\"]\n",
    "nm_lats=states['NM'][\"lats\"]\n",
    "\n",
    "# Create a list of az_col, co_col, nm_col and ut_col: z\n",
    "c=['red','blue','green']\n",
    "z=[0.1,0.2,0.3]\n",
    "\n",
    "x=[az_lons,co_lons,nm_lons]\n",
    "y=[az_lats,co_lats,nm_lats]\n",
    "# Add patches to figure p with line_color=white for x and y\n",
    "p.patches(x,y,fill_alpha=z,fill_color=c)\n",
    "\n",
    "# Specify the name of the output file and show the result\n",
    "output_file('Maps/somestates.html')\n",
    "output_notebook()\n",
    "show(p)"
   ]
  },
  {
   "cell_type": "markdown",
   "metadata": {},
   "source": [
    "# Mapping the United States\n",
    "\n",
    "Now that we know how to create a patch and add it to a plot As in the previous example we are going to use Bokeh patches to map the US states, this time however we will used a 'for loop' to get the lons and lats co-ordinated for each of the states. We'll remove the Data for Alaska and Hawaii (because we are only interested in the mainland states). We will then cross reference the list of states against popullation data for each state in a csv file, and calculate an alpha value to set the transparency of the state to reflect the states relative populations size."
   ]
  },
  {
   "cell_type": "code",
   "execution_count": null,
   "metadata": {
    "scrolled": true
   },
   "outputs": [],
   "source": [
    "# load libraries\n",
    "import pandas as pd\n",
    "import numpy as np\n",
    "from bokeh.io import push_notebook,show,output_notebook,output_file\n",
    "from bokeh.plotting import figure\n",
    "\n",
    "# import map data\n",
    "from bokeh.sampledata.us_states import data as states\n",
    "\n",
    "# create lists\n",
    "stateslist=list(states)\n",
    "stateslist.remove('AK')\n",
    "stateslist.remove('HI')\n",
    "#stateslist=(states.keys())\n",
    "states_lons=[]\n",
    "states_lats=[]\n",
    "states_alphas=[]\n",
    "\n",
    "# get lons , lats and alphas from dictionary\n",
    "for state in stateslist:\n",
    "    states_lons.append((states[state][\"lons\"]))\n",
    "    \n",
    "for state in stateslist:\n",
    "    states_lats.append((states[state][\"lats\"]))\n",
    "    \n",
    "for state in stateslist:\n",
    "    states_alphas.append(0.5)    \n",
    "\n",
    "# create figure\n",
    "s = figure(toolbar_location=\"left\")\n",
    "\n",
    "# Add patches to figure p with line_color=white for x and y\n",
    "s.patches(states_lons,states_lats,fill_alpha=states_alphas)\n",
    "\n",
    "# Specify the name of the output file and show the result\n",
    "output_file('Maps/allstates.html')\n",
    "output_notebook()\n",
    "show(s)"
   ]
  },
  {
   "cell_type": "markdown",
   "metadata": {},
   "source": [
    "![bokeh patches](Images/allstates1.png?raw=true)"
   ]
  },
  {
   "cell_type": "markdown",
   "metadata": {},
   "source": [
    "# Comparing State Populations\n",
    "\n",
    "The final stage in this project is to import the state population data as a csv file, and use this to set the transparency of each state. The state code can be used to cross reference the data as they exist in both the bokeh sampledata and the state population spreadsheet. Transparencies values range from 0 and 1. In order to get from the population figures to an alpha value, we get the maximum state population and divide each state's population by that figure. This results in a list of values values between 0 and 1 that can be passed to bokeh as alphas."
   ]
  },
  {
   "cell_type": "code",
   "execution_count": null,
   "metadata": {},
   "outputs": [],
   "source": [
    "# load libraries\n",
    "import pandas as pd\n",
    "import numpy as np\n",
    "from bokeh.io import push_notebook,show,output_notebook,output_file\n",
    "from bokeh.plotting import figure\n",
    "\n",
    "# import map data\n",
    "from bokeh.sampledata.us_states import data as states\n",
    "pop=pd.read_csv('Data/population2018.csv',sep=',',encoding = \"ISO-8859-1\",thousands=',',index_col=\"Code\")\n",
    "#stateslist=(states.keys())\n",
    "\n",
    "# create lists and remove alaska and hawaii\n",
    "stateslist=list(states)\n",
    "stateslist.remove('AK')\n",
    "stateslist.remove('HI')\n",
    "\n",
    "#stateslist=(states.keys())\n",
    "states_lons=[]\n",
    "states_lats=[]\n",
    "states_alpha=[]\n",
    "states_colour=[]\n",
    "\n",
    "# get lons and lats from dictionary\n",
    "for state in stateslist:\n",
    "    states_lons.append((states[state][\"lons\"]))\n",
    "    \n",
    "for state in stateslist:\n",
    "    states_lats.append((states[state][\"lats\"]))\n",
    "    \n",
    "# create colour list\n",
    "for state in stateslist:\n",
    "    states_colour.append(['blue'])\n",
    "    \n",
    "# Calculate alphas by cross ref pop dataframe\n",
    "max= (np.array(pop['2018 Population'],dtype=int)).max()\n",
    "for i, row in pop.iterrows():\n",
    "    state_alpha=((int(row['2018 Population']))/max)\n",
    "    states_alpha.append(state_alpha)\n",
    "\n",
    "# create figure\n",
    "p = figure(toolbar_location=\"left\")\n",
    "\n",
    "# Add patches to figure p with line_color=white for x and y\n",
    "p.patches(states_lons,states_lats,fill_alpha=states_alpha,fill_color=c)\n",
    "\n",
    "# Specify the name of the output file and show the result\n",
    "output_file('Maps/allstatepops.html')\n",
    "output_notebook()\n",
    "show(p)"
   ]
  },
  {
   "cell_type": "markdown",
   "metadata": {},
   "source": [
    "![bokeh patches](Images/allstates2.png?raw=true)"
   ]
  },
  {
   "cell_type": "markdown",
   "metadata": {},
   "source": [
    "We can see from the resulting plot that the states with the highest populations are not necessarily the biggest states. We can also see that the states with the highest populations are reasonably evenly spread across the continent, and there are no obvious clusters of states with either high or low state populations."
   ]
  }
 ],
 "metadata": {
  "kernelspec": {
   "display_name": "Python 3",
   "language": "python",
   "name": "python3"
  },
  "language_info": {
   "codemirror_mode": {
    "name": "ipython",
    "version": 3
   },
   "file_extension": ".py",
   "mimetype": "text/x-python",
   "name": "python",
   "nbconvert_exporter": "python",
   "pygments_lexer": "ipython3",
   "version": "3.6.4"
  }
 },
 "nbformat": 4,
 "nbformat_minor": 2
}
