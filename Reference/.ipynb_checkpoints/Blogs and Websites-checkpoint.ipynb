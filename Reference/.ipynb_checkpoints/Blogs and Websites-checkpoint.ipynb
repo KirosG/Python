{
 "cells": [
  {
   "cell_type": "markdown",
   "metadata": {},
   "source": [
    "# Blogs\n",
    "\n",
    "\n",
    "## becomingadatascientist\n",
    "\n",
    "http://www.becomingadatascientist.com/ - data science blog and podcast\n",
    "\n",
    "## count bayesie\n",
    "\n",
    "https://www.countbayesie.com/\n",
    "\n",
    "## datacamp blog\n",
    "\n",
    "https://www.datacamp.com/community/blog\n",
    "\n",
    "## dataquest\n",
    "\n",
    "https://www.dataquest.io/blog/ - learn about data science, from the makers of Dataquest\n",
    "\n",
    "## freedom-to-tinker\n",
    "\n",
    "https://freedom-to-tinker.com/\n",
    "\n",
    "## fullstackpython\n",
    "\n",
    "https://www.fullstackpython.com/blog.html - lots of detailed how to's\n",
    "\n",
    "## love-python\n",
    "\n",
    "http://love-python.blogspot.co.uk - lots of little code snippets\n",
    "\n",
    "## pymotw\n",
    "\n",
    "https://pymotw.com/3/ - python Module of the week\n",
    "\n",
    "## python for beginners\n",
    "\n",
    "http://www.pythonforbeginners.com/ - python for beginners\n",
    "\n",
    "## randalolson\n",
    "\n",
    "http://www.randalolson.com/blog/\n"
   ]
  },
  {
   "cell_type": "markdown",
   "metadata": {},
   "source": [
    "# Other Websites\n",
    "\n",
    "\n",
    "## Data Carpentry\n",
    "\n",
    "http://www.datacarpentry.org/\n",
    "Data Carpentry develops and teaches workshops on the fundamental data skills needed to conduct research.\n",
    "\n",
    "\n",
    "## makeovermonday\n",
    "\n",
    "http://www.makeovermonday.co.uk/"
   ]
  },
  {
   "cell_type": "code",
   "execution_count": null,
   "metadata": {},
   "outputs": [],
   "source": []
  }
 ],
 "metadata": {
  "kernelspec": {
   "display_name": "Python 3",
   "language": "python",
   "name": "python3"
  },
  "language_info": {
   "codemirror_mode": {
    "name": "ipython",
    "version": 3
   },
   "file_extension": ".py",
   "mimetype": "text/x-python",
   "name": "python",
   "nbconvert_exporter": "python",
   "pygments_lexer": "ipython3",
   "version": "3.6.4"
  }
 },
 "nbformat": 4,
 "nbformat_minor": 2
}
